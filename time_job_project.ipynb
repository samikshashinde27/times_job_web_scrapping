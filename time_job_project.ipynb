{
 "cells": [
  {
   "cell_type": "code",
   "execution_count": 1,
   "id": "87f02e99",
   "metadata": {},
   "outputs": [],
   "source": [
    "#extracting data from website using webscrapping in python.\n",
    "\n",
    "#requests module-send HTTP request to specified URL and return response object containing html content(str type).\n",
    "\n",
    "#BeautifulSoup module-has power understand HTML language in python enviornment(with BeautifulSoup type).\n",
    "#used to navigate and parse HTML code.\n",
    "\n",
    "#pandas module- converts data into tableau/dataframe format(rows and columns).\n"
   ]
  },
  {
   "cell_type": "code",
   "execution_count": 4,
   "id": "0a2e1db9",
   "metadata": {},
   "outputs": [],
   "source": [
    "import requests\n",
    "from bs4 import BeautifulSoup\n",
    "import pandas as pd"
   ]
  },
  {
   "cell_type": "code",
   "execution_count": 2,
   "id": "994cac47",
   "metadata": {},
   "outputs": [],
   "source": [
    "source_data=requests.get('https://www.timesjobs.com/candidate/job-search.html?from=submit&searchType=Home_Search&luceneResultSize=25&postWeek=60&cboPresFuncArea=35&pDate=Y&sequence=1&startPage=1').text\n",
    "#print(source_data)"
   ]
  },
  {
   "cell_type": "code",
   "execution_count": 87,
   "id": "fb071291",
   "metadata": {},
   "outputs": [
    {
     "name": "stdout",
     "output_type": "stream",
     "text": [
      "<class 'str'>\n"
     ]
    }
   ],
   "source": [
    "print(type(source_data))"
   ]
  },
  {
   "cell_type": "code",
   "execution_count": 88,
   "id": "41ad8a0d",
   "metadata": {},
   "outputs": [
    {
     "name": "stdout",
     "output_type": "stream",
     "text": [
      "Note: you may need to restart the kernel to use updated packages.Defaulting to user installation because normal site-packages is not writeable\n",
      "Requirement already satisfied: bs4 in c:\\users\\lenovo\\appdata\\roaming\\python\\python39\\site-packages (0.0.1)\n",
      "Requirement already satisfied: beautifulsoup4 in c:\\programdata\\anaconda3\\lib\\site-packages (from bs4) (4.11.1)\n",
      "Requirement already satisfied: soupsieve>1.2 in c:\\programdata\\anaconda3\\lib\\site-packages (from beautifulsoup4->bs4) (2.3.1)\n",
      "\n"
     ]
    }
   ],
   "source": [
    "pip install bs4#install beautifulsoup"
   ]
  },
  {
   "cell_type": "code",
   "execution_count": 3,
   "id": "84527074",
   "metadata": {},
   "outputs": [],
   "source": [
    "soup_data=BeautifulSoup(source_data,'lxml')"
   ]
  },
  {
   "cell_type": "code",
   "execution_count": 91,
   "id": "d8ab7bad",
   "metadata": {},
   "outputs": [],
   "source": [
    "#print(soup_data)"
   ]
  },
  {
   "cell_type": "code",
   "execution_count": 92,
   "id": "71a0db1b",
   "metadata": {},
   "outputs": [],
   "source": [
    "first_li=soup_data.find('li',class_='clearfix job-bx wht-shd-bx')"
   ]
  },
  {
   "cell_type": "code",
   "execution_count": 94,
   "id": "83669fd4",
   "metadata": {},
   "outputs": [],
   "source": [
    "#print(first_li)"
   ]
  },
  {
   "cell_type": "code",
   "execution_count": 95,
   "id": "257ff789",
   "metadata": {},
   "outputs": [],
   "source": [
    "job_title=first_li.find('a').text"
   ]
  },
  {
   "cell_type": "code",
   "execution_count": 98,
   "id": "d7369ba7",
   "metadata": {},
   "outputs": [],
   "source": [
    "job_title=job_title.strip()#strip all whitespaces."
   ]
  },
  {
   "cell_type": "code",
   "execution_count": 99,
   "id": "2d6c05db",
   "metadata": {},
   "outputs": [
    {
     "data": {
      "text/plain": [
       "'Electrical and Electronics Engineer in Canada /Germany'"
      ]
     },
     "execution_count": 99,
     "metadata": {},
     "output_type": "execute_result"
    }
   ],
   "source": [
    "job_title"
   ]
  },
  {
   "cell_type": "code",
   "execution_count": 100,
   "id": "60d8b6a0",
   "metadata": {},
   "outputs": [],
   "source": [
    "company_name=first_li.find('h3',class_='joblist-comp-name').text"
   ]
  },
  {
   "cell_type": "code",
   "execution_count": 103,
   "id": "d3a226c2",
   "metadata": {},
   "outputs": [],
   "source": [
    "company_name=company_name.strip()#strip all whitespaces."
   ]
  },
  {
   "cell_type": "code",
   "execution_count": 106,
   "id": "fa6dfac1",
   "metadata": {},
   "outputs": [],
   "source": [
    "company_name=company_name.split('\\r')[0]#if \"\\r\" within companyname than split at \"\\r\" and get companyname\n",
    "        "
   ]
  },
  {
   "cell_type": "code",
   "execution_count": 107,
   "id": "eea509ae",
   "metadata": {},
   "outputs": [
    {
     "data": {
      "text/plain": [
       "'FLIGHT TO SUCESS IMMIGRATION LLP'"
      ]
     },
     "execution_count": 107,
     "metadata": {},
     "output_type": "execute_result"
    }
   ],
   "source": [
    "company_name"
   ]
  },
  {
   "cell_type": "code",
   "execution_count": 108,
   "id": "748351fd",
   "metadata": {},
   "outputs": [],
   "source": [
    "expe=first_li.find('li').text"
   ]
  },
  {
   "cell_type": "code",
   "execution_count": 129,
   "id": "4ebc3568",
   "metadata": {},
   "outputs": [],
   "source": [
    "experience=expe[11:]#use slicing method"
   ]
  },
  {
   "cell_type": "code",
   "execution_count": 130,
   "id": "aaf65b83",
   "metadata": {},
   "outputs": [
    {
     "data": {
      "text/plain": [
       "'5 - 10 yrs'"
      ]
     },
     "execution_count": 130,
     "metadata": {},
     "output_type": "execute_result"
    }
   ],
   "source": [
    "experience"
   ]
  },
  {
   "cell_type": "code",
   "execution_count": 131,
   "id": "1afe663a",
   "metadata": {},
   "outputs": [],
   "source": [
    "ul1=first_li.find('ul',class_='top-jd-dtl clearfix')"
   ]
  },
  {
   "cell_type": "code",
   "execution_count": 134,
   "id": "fd445d4f",
   "metadata": {},
   "outputs": [],
   "source": [
    "location=ul1.find('span').text"
   ]
  },
  {
   "cell_type": "code",
   "execution_count": 135,
   "id": "b8502b09",
   "metadata": {},
   "outputs": [
    {
     "data": {
      "text/plain": [
       "'Canada,  Germany'"
      ]
     },
     "execution_count": 135,
     "metadata": {},
     "output_type": "execute_result"
    }
   ],
   "source": [
    "location"
   ]
  },
  {
   "cell_type": "code",
   "execution_count": 147,
   "id": "ceabb464",
   "metadata": {},
   "outputs": [],
   "source": [
    "ul2=first_li.find('ul',class_='list-job-dtl clearfix')"
   ]
  },
  {
   "cell_type": "code",
   "execution_count": 148,
   "id": "66752333",
   "metadata": {},
   "outputs": [],
   "source": [
    "job_desc=ul2.find('li').text"
   ]
  },
  {
   "cell_type": "code",
   "execution_count": 166,
   "id": "99c4ade9",
   "metadata": {},
   "outputs": [],
   "source": [
    "job_description=job_desc[19:-1]#use slicing method"
   ]
  },
  {
   "cell_type": "code",
   "execution_count": 167,
   "id": "6359c6dc",
   "metadata": {},
   "outputs": [
    {
     "data": {
      "text/plain": [
       "'Electrical & Electronics Engineer In CanadaCALL NOW 7042238065    Design new ways to use electrical power to develop or improve products     Perform detailed calculations ... More Details'"
      ]
     },
     "execution_count": 167,
     "metadata": {},
     "output_type": "execute_result"
    }
   ],
   "source": [
    "job_description"
   ]
  },
  {
   "cell_type": "code",
   "execution_count": 160,
   "id": "eb66b840",
   "metadata": {},
   "outputs": [],
   "source": [
    "key_skill=ul2.find('span').text"
   ]
  },
  {
   "cell_type": "code",
   "execution_count": 168,
   "id": "e74859f6",
   "metadata": {},
   "outputs": [],
   "source": [
    "key_skill=key_skill.strip()#strip all whitespaces."
   ]
  },
  {
   "cell_type": "code",
   "execution_count": 169,
   "id": "a6aabcdc",
   "metadata": {},
   "outputs": [
    {
     "data": {
      "text/plain": [
       "'Electrical Power , Electronic Engineer , Testing Electrical equipment , electronics , Electrical system Plan , Electronics Components'"
      ]
     },
     "execution_count": 169,
     "metadata": {},
     "output_type": "execute_result"
    }
   ],
   "source": [
    "key_skill"
   ]
  },
  {
   "cell_type": "code",
   "execution_count": 170,
   "id": "f517d7de",
   "metadata": {},
   "outputs": [],
   "source": [
    "first_li_info={\n",
    "    'job_title':job_title,\n",
    "    'company_name':company_name,\n",
    "    'experience':experience,\n",
    "    'location':location,\n",
    "    'job_description':job_description,\n",
    "    'key_skill':key_skill\n",
    "}"
   ]
  },
  {
   "cell_type": "code",
   "execution_count": 171,
   "id": "adceb706",
   "metadata": {},
   "outputs": [
    {
     "name": "stdout",
     "output_type": "stream",
     "text": [
      "{'job_title': 'Electrical and Electronics Engineer in Canada /Germany', 'company_name': 'FLIGHT TO SUCESS IMMIGRATION LLP', 'experience': '5 - 10 yrs', 'location': 'Canada,  Germany', 'job_description': 'Electrical & Electronics Engineer In CanadaCALL NOW 7042238065    Design new ways to use electrical power to develop or improve products     Perform detailed calculations ... More Details', 'key_skill': 'Electrical Power , Electronic Engineer , Testing Electrical equipment , electronics , Electrical system Plan , Electronics Components'}\n"
     ]
    }
   ],
   "source": [
    "print(first_li_info)"
   ]
  },
  {
   "cell_type": "markdown",
   "id": "0a217d83",
   "metadata": {},
   "source": [
    "# fetching all li from page1"
   ]
  },
  {
   "cell_type": "code",
   "execution_count": 4,
   "id": "f0efdd4c",
   "metadata": {},
   "outputs": [],
   "source": [
    "page1_all_lis=soup_data.find_all('li',class_='clearfix job-bx wht-shd-bx')"
   ]
  },
  {
   "cell_type": "code",
   "execution_count": 5,
   "id": "780f3d71",
   "metadata": {},
   "outputs": [],
   "source": [
    "#print(page1_all_lis)"
   ]
  },
  {
   "cell_type": "code",
   "execution_count": 7,
   "id": "611424e3",
   "metadata": {},
   "outputs": [],
   "source": [
    "page1_product=[]\n",
    "for item in page1_all_lis:\n",
    "    job_title=item.find('a').text\n",
    "    job_title=job_title.strip()#strip all whitespaces.\n",
    "    \n",
    "    company_name=item.find('h3',class_='joblist-comp-name').text\n",
    "    company_name=company_name.strip()#strip all whitespaces.\n",
    "    company_name=company_name.split('\\r')[0]#if \"\\r\" within companyname than split at \"\\r\" and get companyname\n",
    "        \n",
    "    \n",
    "    expe=item.find('li').text\n",
    "    experience=expe[11:]#use slicing method\n",
    "    \n",
    "    ul1=item.find('ul',class_='top-jd-dtl clearfix')\n",
    "    location=ul1.find('span').text\n",
    "    \n",
    "    ul2=item.find('ul',class_='list-job-dtl clearfix')\n",
    "    job_desc=ul2.find('li').text\n",
    "    job_description=job_desc[19:-1]#use slicing method\n",
    "    \n",
    "    key_skill=ul2.find('span').text\n",
    "    key_skill=key_skill.strip()#strip all whitespaces.\n",
    "    \n",
    "    first_page_info={\n",
    "        'job_title':job_title,\n",
    "        'company_name':company_name,\n",
    "        'experience':experience,\n",
    "        'location':location,\n",
    "        'job_description':job_description,\n",
    "        'key_skill':key_skill\n",
    "    }\n",
    "    \n",
    "    page1_product.append(first_page_info)#store data into list\n",
    "    "
   ]
  },
  {
   "cell_type": "code",
   "execution_count": 9,
   "id": "3982572d",
   "metadata": {},
   "outputs": [],
   "source": [
    "#print(page1_product)"
   ]
  },
  {
   "cell_type": "markdown",
   "id": "7017a52e",
   "metadata": {},
   "source": [
    "# fetch all data"
   ]
  },
  {
   "cell_type": "code",
   "execution_count": 5,
   "id": "894c5f2f",
   "metadata": {},
   "outputs": [],
   "source": [
    "base_url='https://www.timesjobs.com/candidate/job-search.html?from=submit&searchType=Home_Search&luceneResultSize=25&postWeek=60&cboPresFuncArea=35&pDate=Y&sequence='\n",
    "comman_url='&startPage=1'"
   ]
  },
  {
   "cell_type": "code",
   "execution_count": 6,
   "id": "23740b1c",
   "metadata": {},
   "outputs": [],
   "source": [
    "all_urls=[]\n",
    "for val in range(1,41):#fetch URLS(no. of pages) of website till specified range.    \n",
    "    all_urls.append(base_url+str(val)+comman_url)#concatenate page numbers to urls and append them to list."
   ]
  },
  {
   "cell_type": "code",
   "execution_count": 7,
   "id": "64c0b9bc",
   "metadata": {},
   "outputs": [],
   "source": [
    "#print(all_urls)"
   ]
  },
  {
   "cell_type": "code",
   "execution_count": 8,
   "id": "4dd2e51a",
   "metadata": {},
   "outputs": [
    {
     "name": "stdout",
     "output_type": "stream",
     "text": [
      "https://www.timesjobs.com/candidate/job-search.html?from=submit&searchType=Home_Search&luceneResultSize=25&postWeek=60&cboPresFuncArea=35&pDate=Y&sequence=1&startPage=1\n",
      "https://www.timesjobs.com/candidate/job-search.html?from=submit&searchType=Home_Search&luceneResultSize=25&postWeek=60&cboPresFuncArea=35&pDate=Y&sequence=2&startPage=1\n",
      "https://www.timesjobs.com/candidate/job-search.html?from=submit&searchType=Home_Search&luceneResultSize=25&postWeek=60&cboPresFuncArea=35&pDate=Y&sequence=3&startPage=1\n",
      "https://www.timesjobs.com/candidate/job-search.html?from=submit&searchType=Home_Search&luceneResultSize=25&postWeek=60&cboPresFuncArea=35&pDate=Y&sequence=4&startPage=1\n",
      "https://www.timesjobs.com/candidate/job-search.html?from=submit&searchType=Home_Search&luceneResultSize=25&postWeek=60&cboPresFuncArea=35&pDate=Y&sequence=5&startPage=1\n",
      "https://www.timesjobs.com/candidate/job-search.html?from=submit&searchType=Home_Search&luceneResultSize=25&postWeek=60&cboPresFuncArea=35&pDate=Y&sequence=6&startPage=1\n",
      "https://www.timesjobs.com/candidate/job-search.html?from=submit&searchType=Home_Search&luceneResultSize=25&postWeek=60&cboPresFuncArea=35&pDate=Y&sequence=7&startPage=1\n",
      "https://www.timesjobs.com/candidate/job-search.html?from=submit&searchType=Home_Search&luceneResultSize=25&postWeek=60&cboPresFuncArea=35&pDate=Y&sequence=8&startPage=1\n",
      "https://www.timesjobs.com/candidate/job-search.html?from=submit&searchType=Home_Search&luceneResultSize=25&postWeek=60&cboPresFuncArea=35&pDate=Y&sequence=9&startPage=1\n",
      "https://www.timesjobs.com/candidate/job-search.html?from=submit&searchType=Home_Search&luceneResultSize=25&postWeek=60&cboPresFuncArea=35&pDate=Y&sequence=10&startPage=1\n",
      "https://www.timesjobs.com/candidate/job-search.html?from=submit&searchType=Home_Search&luceneResultSize=25&postWeek=60&cboPresFuncArea=35&pDate=Y&sequence=11&startPage=1\n",
      "https://www.timesjobs.com/candidate/job-search.html?from=submit&searchType=Home_Search&luceneResultSize=25&postWeek=60&cboPresFuncArea=35&pDate=Y&sequence=12&startPage=1\n",
      "https://www.timesjobs.com/candidate/job-search.html?from=submit&searchType=Home_Search&luceneResultSize=25&postWeek=60&cboPresFuncArea=35&pDate=Y&sequence=13&startPage=1\n",
      "https://www.timesjobs.com/candidate/job-search.html?from=submit&searchType=Home_Search&luceneResultSize=25&postWeek=60&cboPresFuncArea=35&pDate=Y&sequence=14&startPage=1\n",
      "https://www.timesjobs.com/candidate/job-search.html?from=submit&searchType=Home_Search&luceneResultSize=25&postWeek=60&cboPresFuncArea=35&pDate=Y&sequence=15&startPage=1\n",
      "https://www.timesjobs.com/candidate/job-search.html?from=submit&searchType=Home_Search&luceneResultSize=25&postWeek=60&cboPresFuncArea=35&pDate=Y&sequence=16&startPage=1\n",
      "https://www.timesjobs.com/candidate/job-search.html?from=submit&searchType=Home_Search&luceneResultSize=25&postWeek=60&cboPresFuncArea=35&pDate=Y&sequence=17&startPage=1\n",
      "https://www.timesjobs.com/candidate/job-search.html?from=submit&searchType=Home_Search&luceneResultSize=25&postWeek=60&cboPresFuncArea=35&pDate=Y&sequence=18&startPage=1\n",
      "https://www.timesjobs.com/candidate/job-search.html?from=submit&searchType=Home_Search&luceneResultSize=25&postWeek=60&cboPresFuncArea=35&pDate=Y&sequence=19&startPage=1\n",
      "https://www.timesjobs.com/candidate/job-search.html?from=submit&searchType=Home_Search&luceneResultSize=25&postWeek=60&cboPresFuncArea=35&pDate=Y&sequence=20&startPage=1\n",
      "https://www.timesjobs.com/candidate/job-search.html?from=submit&searchType=Home_Search&luceneResultSize=25&postWeek=60&cboPresFuncArea=35&pDate=Y&sequence=21&startPage=1\n",
      "https://www.timesjobs.com/candidate/job-search.html?from=submit&searchType=Home_Search&luceneResultSize=25&postWeek=60&cboPresFuncArea=35&pDate=Y&sequence=22&startPage=1\n",
      "https://www.timesjobs.com/candidate/job-search.html?from=submit&searchType=Home_Search&luceneResultSize=25&postWeek=60&cboPresFuncArea=35&pDate=Y&sequence=23&startPage=1\n",
      "https://www.timesjobs.com/candidate/job-search.html?from=submit&searchType=Home_Search&luceneResultSize=25&postWeek=60&cboPresFuncArea=35&pDate=Y&sequence=24&startPage=1\n",
      "https://www.timesjobs.com/candidate/job-search.html?from=submit&searchType=Home_Search&luceneResultSize=25&postWeek=60&cboPresFuncArea=35&pDate=Y&sequence=25&startPage=1\n",
      "https://www.timesjobs.com/candidate/job-search.html?from=submit&searchType=Home_Search&luceneResultSize=25&postWeek=60&cboPresFuncArea=35&pDate=Y&sequence=26&startPage=1\n",
      "https://www.timesjobs.com/candidate/job-search.html?from=submit&searchType=Home_Search&luceneResultSize=25&postWeek=60&cboPresFuncArea=35&pDate=Y&sequence=27&startPage=1\n",
      "https://www.timesjobs.com/candidate/job-search.html?from=submit&searchType=Home_Search&luceneResultSize=25&postWeek=60&cboPresFuncArea=35&pDate=Y&sequence=28&startPage=1\n",
      "https://www.timesjobs.com/candidate/job-search.html?from=submit&searchType=Home_Search&luceneResultSize=25&postWeek=60&cboPresFuncArea=35&pDate=Y&sequence=29&startPage=1\n",
      "https://www.timesjobs.com/candidate/job-search.html?from=submit&searchType=Home_Search&luceneResultSize=25&postWeek=60&cboPresFuncArea=35&pDate=Y&sequence=30&startPage=1\n",
      "https://www.timesjobs.com/candidate/job-search.html?from=submit&searchType=Home_Search&luceneResultSize=25&postWeek=60&cboPresFuncArea=35&pDate=Y&sequence=31&startPage=1\n",
      "https://www.timesjobs.com/candidate/job-search.html?from=submit&searchType=Home_Search&luceneResultSize=25&postWeek=60&cboPresFuncArea=35&pDate=Y&sequence=32&startPage=1\n",
      "https://www.timesjobs.com/candidate/job-search.html?from=submit&searchType=Home_Search&luceneResultSize=25&postWeek=60&cboPresFuncArea=35&pDate=Y&sequence=33&startPage=1\n",
      "https://www.timesjobs.com/candidate/job-search.html?from=submit&searchType=Home_Search&luceneResultSize=25&postWeek=60&cboPresFuncArea=35&pDate=Y&sequence=34&startPage=1\n",
      "https://www.timesjobs.com/candidate/job-search.html?from=submit&searchType=Home_Search&luceneResultSize=25&postWeek=60&cboPresFuncArea=35&pDate=Y&sequence=35&startPage=1\n",
      "https://www.timesjobs.com/candidate/job-search.html?from=submit&searchType=Home_Search&luceneResultSize=25&postWeek=60&cboPresFuncArea=35&pDate=Y&sequence=36&startPage=1\n",
      "https://www.timesjobs.com/candidate/job-search.html?from=submit&searchType=Home_Search&luceneResultSize=25&postWeek=60&cboPresFuncArea=35&pDate=Y&sequence=37&startPage=1\n",
      "https://www.timesjobs.com/candidate/job-search.html?from=submit&searchType=Home_Search&luceneResultSize=25&postWeek=60&cboPresFuncArea=35&pDate=Y&sequence=38&startPage=1\n",
      "https://www.timesjobs.com/candidate/job-search.html?from=submit&searchType=Home_Search&luceneResultSize=25&postWeek=60&cboPresFuncArea=35&pDate=Y&sequence=39&startPage=1\n",
      "https://www.timesjobs.com/candidate/job-search.html?from=submit&searchType=Home_Search&luceneResultSize=25&postWeek=60&cboPresFuncArea=35&pDate=Y&sequence=40&startPage=1\n"
     ]
    }
   ],
   "source": [
    "for item in all_urls:\n",
    "    print(item)"
   ]
  },
  {
   "cell_type": "code",
   "execution_count": 9,
   "id": "1a23c451",
   "metadata": {},
   "outputs": [],
   "source": [
    "all_job_list=[]\n",
    "for url in all_urls:\n",
    "     #sends a GET request to specified URL and save response from server in response object.\n",
    "    \n",
    "    #create BeautifulSoup object(HTML content-str to BeautifulSoup type, lxml parser- to avoid  data loss if tags remain open).\n",
    "    \n",
    "        #find_all \n",
    "#tags present whose attribute class is \"clearfix job-bx wht-shd-bx\" from soup.\n",
    "\n",
    "    all_url_data=requests.get(url).text\n",
    "    all_soup_data=BeautifulSoup(all_url_data,'lxml')\n",
    "    all_lis=all_soup_data.find_all('li',class_='clearfix job-bx wht-shd-bx')\n",
    "    for item in all_lis:\n",
    "        \n",
    "         #1)find tag from each \n",
    "#tag(item) and store text in job_title variable. \n",
    "\n",
    "    \n",
    "            #2)find [href] link from each \n",
    "#tag(item) and store text  in job_url\n",
    "\n",
    "# tag from each \n",
    "#tag(item) with attribute class \"joblist-comp-name\" and store text in company_name.\n",
    "\n",
    "        \n",
    "        job_title=item.find('a').text\n",
    "        job_title=job_title.strip()#strip all whitespaces.\n",
    "        \n",
    "        job_url=item.find('a')['href']\n",
    "    \n",
    "        company_name=item.find('h3',class_='joblist-comp-name').text\n",
    "        company_name=company_name.strip()\n",
    "        company_name=company_name.split('\\r')[0]#if \"\\r\" within companyname than split at \"\\r\" and get companyname\n",
    "        \n",
    "         #first ul\n",
    "        \n",
    "            #find \n",
    "# tag from \n",
    "#tag(item) whose attribute class is \"top-jd-dtl clearfix\" and store in ul1 variable.\n",
    "\n",
    "    \n",
    "            #4)find \n",
    "#tag from \n",
    "#tag and store text in experience.\n",
    "\n",
    "      \n",
    "            #5)find tag from \n",
    "#tag store text in location.\n",
    "    \n",
    "        expe=item.find('li').text\n",
    "        experience=expe[11:]\n",
    "    \n",
    "        ul1=item.find('ul',class_='top-jd-dtl clearfix')\n",
    "        location=ul1.find('span').text\n",
    "        \n",
    "       # tag from \n",
    "#tag(item) whose attribute class is \"list-job-dtl clearfix\" and store in ul2 variable.\n",
    "\n",
    "      \n",
    "            #6)find \n",
    "#tag from \n",
    "#tag and get text(jobdesc) and store in job_desc variable.\n",
    "\n",
    "      \n",
    "            #7)find tag from \n",
    "#tag and get text(keyskills) and store in keyskills variable.  \n",
    "\n",
    "    \n",
    "        ul2=item.find('ul',class_='list-job-dtl clearfix')\n",
    "        job_desc=ul2.find('li').text\n",
    "        job_description=job_desc[19:-1]\n",
    "    \n",
    "        key_skill=ul2.find('span').text\n",
    "        key_skill=key_skill.strip()\n",
    "    \n",
    "        all_job_info={\n",
    "        'job_title':job_title,\n",
    "        'job_url':job_url,\n",
    "        'company_name':company_name,\n",
    "        'experience':experience,\n",
    "        'location':location,\n",
    "        'job_description':job_description,\n",
    "        'key_skill':key_skill\n",
    "        }\n",
    "        \n",
    "        all_job_list.append(all_job_info)\n",
    "        \n",
    "         #pageall_lst.append(allpage_info)#dictionary allpage_info iterate each time in loop and appends to pageall_lst.\n",
    "        \n",
    "    #store DataFrame/tableau in df2 variable.\n"
   ]
  },
  {
   "cell_type": "code",
   "execution_count": 193,
   "id": "4c75bd47",
   "metadata": {},
   "outputs": [],
   "source": [
    "#print(all_product_list)"
   ]
  },
  {
   "cell_type": "code",
   "execution_count": 17,
   "id": "dc764b47",
   "metadata": {},
   "outputs": [],
   "source": [
    "df1=pd.DataFrame(all_job_list)"
   ]
  },
  {
   "cell_type": "code",
   "execution_count": 18,
   "id": "d0f83e32",
   "metadata": {},
   "outputs": [
    {
     "data": {
      "text/html": [
       "<div>\n",
       "<style scoped>\n",
       "    .dataframe tbody tr th:only-of-type {\n",
       "        vertical-align: middle;\n",
       "    }\n",
       "\n",
       "    .dataframe tbody tr th {\n",
       "        vertical-align: top;\n",
       "    }\n",
       "\n",
       "    .dataframe thead th {\n",
       "        text-align: right;\n",
       "    }\n",
       "</style>\n",
       "<table border=\"1\" class=\"dataframe\">\n",
       "  <thead>\n",
       "    <tr style=\"text-align: right;\">\n",
       "      <th></th>\n",
       "      <th>job_title</th>\n",
       "      <th>company_name</th>\n",
       "      <th>experience</th>\n",
       "      <th>location</th>\n",
       "      <th>job_description</th>\n",
       "      <th>key_skill</th>\n",
       "    </tr>\n",
       "  </thead>\n",
       "  <tbody>\n",
       "    <tr>\n",
       "      <th>0</th>\n",
       "      <td>Android Auto Carplay</td>\n",
       "      <td>elektrobit india private limited</td>\n",
       "      <td>5 - 15 yrs</td>\n",
       "      <td>Bengaluru / Bangalore</td>\n",
       "      <td>Responsibilities Android auto integration on a...</td>\n",
       "      <td>technical expert , hmi , vehicles , human mach...</td>\n",
       "    </tr>\n",
       "    <tr>\n",
       "      <th>1</th>\n",
       "      <td>Android Application Developer</td>\n",
       "      <td>Anjum Jabeen</td>\n",
       "      <td>3 - 5 yrs</td>\n",
       "      <td>Ahmedabad,  Bengaluru / Bangalore,  Chennai,  ...</td>\n",
       "      <td>Android Application Developer | IT software Co...</td>\n",
       "      <td>Andriod studio , API</td>\n",
       "    </tr>\n",
       "    <tr>\n",
       "      <th>2</th>\n",
       "      <td>Android - COS</td>\n",
       "      <td>elektrobit india private limited</td>\n",
       "      <td>4 - 7 yrs</td>\n",
       "      <td>Bengaluru / Bangalore</td>\n",
       "      <td>Your responsibilities Estimate efforts of user...</td>\n",
       "      <td>c   , security , java , embedded software , in...</td>\n",
       "    </tr>\n",
       "    <tr>\n",
       "      <th>3</th>\n",
       "      <td>Adaptive Autosar Architect</td>\n",
       "      <td>elektrobit india private limited</td>\n",
       "      <td>10 - 14 yrs</td>\n",
       "      <td>Bengaluru / Bangalore</td>\n",
       "      <td>Responsibilities Defines architecture and desi...</td>\n",
       "      <td>fundamentals , c   , security , rtos , uml , l...</td>\n",
       "    </tr>\n",
       "    <tr>\n",
       "      <th>4</th>\n",
       "      <td>FULL STACK ENGINEER CLOUD APPS</td>\n",
       "      <td>Larsen &amp; Toubro Infotech Ltd</td>\n",
       "      <td>6 - 8 yrs</td>\n",
       "      <td></td>\n",
       "      <td>Qualifications: At least 6-8 years of hands-on...</td>\n",
       "      <td>html5 , sql , spring , database , security , d...</td>\n",
       "    </tr>\n",
       "    <tr>\n",
       "      <th>...</th>\n",
       "      <td>...</td>\n",
       "      <td>...</td>\n",
       "      <td>...</td>\n",
       "      <td>...</td>\n",
       "      <td>...</td>\n",
       "      <td>...</td>\n",
       "    </tr>\n",
       "    <tr>\n",
       "      <th>995</th>\n",
       "      <td>Project Installation Engineering Manager</td>\n",
       "      <td>Alstom Projects India Ltd.</td>\n",
       "      <td>8 - 11 yrs</td>\n",
       "      <td>Norway</td>\n",
       "      <td>As a Project Installation Engineering Manager,...</td>\n",
       "      <td>project manager , engineering manager , techni...</td>\n",
       "    </tr>\n",
       "    <tr>\n",
       "      <th>996</th>\n",
       "      <td>ILS Engineer</td>\n",
       "      <td>Alstom Projects India Ltd.</td>\n",
       "      <td>0 - 3 yrs</td>\n",
       "      <td>Bengaluru / Bangalore</td>\n",
       "      <td>OVERALL PURPOSE OF THE ROLE:Perform the ISR ac...</td>\n",
       "      <td>rest , it skills , team player , infrastructure</td>\n",
       "    </tr>\n",
       "    <tr>\n",
       "      <th>997</th>\n",
       "      <td>Door System Engineer</td>\n",
       "      <td>Alstom Projects India Ltd.</td>\n",
       "      <td>0 - 3 yrs</td>\n",
       "      <td>Canada</td>\n",
       "      <td>RESPONSIBILITIES :Systems failures analysis, t...</td>\n",
       "      <td>system integration , solution integration , te...</td>\n",
       "    </tr>\n",
       "    <tr>\n",
       "      <th>998</th>\n",
       "      <td>Senior Project Contract Manager</td>\n",
       "      <td>Alstom Projects India Ltd.</td>\n",
       "      <td>10 - 13 yrs</td>\n",
       "      <td>Hong Kong</td>\n",
       "      <td>We are looking for Senior Project Contract Man...</td>\n",
       "      <td>director , testing , infrastructure , agile</td>\n",
       "    </tr>\n",
       "    <tr>\n",
       "      <th>999</th>\n",
       "      <td>Incident Manager</td>\n",
       "      <td>Alstom Projects India Ltd.</td>\n",
       "      <td>10 - 13 yrs</td>\n",
       "      <td>Bengaluru / Bangalore</td>\n",
       "      <td>RESPONSIBILITIES:Manage production incidents t...</td>\n",
       "      <td>conference , unix /  linux , sql , database , ...</td>\n",
       "    </tr>\n",
       "  </tbody>\n",
       "</table>\n",
       "<p>1000 rows × 6 columns</p>\n",
       "</div>"
      ],
      "text/plain": [
       "                                    job_title  \\\n",
       "0                        Android Auto Carplay   \n",
       "1               Android Application Developer   \n",
       "2                               Android - COS   \n",
       "3                  Adaptive Autosar Architect   \n",
       "4              FULL STACK ENGINEER CLOUD APPS   \n",
       "..                                        ...   \n",
       "995  Project Installation Engineering Manager   \n",
       "996                              ILS Engineer   \n",
       "997                      Door System Engineer   \n",
       "998           Senior Project Contract Manager   \n",
       "999                          Incident Manager   \n",
       "\n",
       "                         company_name   experience  \\\n",
       "0    elektrobit india private limited   5 - 15 yrs   \n",
       "1                        Anjum Jabeen    3 - 5 yrs   \n",
       "2    elektrobit india private limited    4 - 7 yrs   \n",
       "3    elektrobit india private limited  10 - 14 yrs   \n",
       "4        Larsen & Toubro Infotech Ltd    6 - 8 yrs   \n",
       "..                                ...          ...   \n",
       "995        Alstom Projects India Ltd.   8 - 11 yrs   \n",
       "996        Alstom Projects India Ltd.    0 - 3 yrs   \n",
       "997        Alstom Projects India Ltd.    0 - 3 yrs   \n",
       "998        Alstom Projects India Ltd.  10 - 13 yrs   \n",
       "999        Alstom Projects India Ltd.  10 - 13 yrs   \n",
       "\n",
       "                                              location  \\\n",
       "0                                Bengaluru / Bangalore   \n",
       "1    Ahmedabad,  Bengaluru / Bangalore,  Chennai,  ...   \n",
       "2                                Bengaluru / Bangalore   \n",
       "3                                Bengaluru / Bangalore   \n",
       "4                                                        \n",
       "..                                                 ...   \n",
       "995                                             Norway   \n",
       "996                              Bengaluru / Bangalore   \n",
       "997                                             Canada   \n",
       "998                                          Hong Kong   \n",
       "999                              Bengaluru / Bangalore   \n",
       "\n",
       "                                       job_description  \\\n",
       "0    Responsibilities Android auto integration on a...   \n",
       "1    Android Application Developer | IT software Co...   \n",
       "2    Your responsibilities Estimate efforts of user...   \n",
       "3    Responsibilities Defines architecture and desi...   \n",
       "4    Qualifications: At least 6-8 years of hands-on...   \n",
       "..                                                 ...   \n",
       "995  As a Project Installation Engineering Manager,...   \n",
       "996  OVERALL PURPOSE OF THE ROLE:Perform the ISR ac...   \n",
       "997  RESPONSIBILITIES :Systems failures analysis, t...   \n",
       "998  We are looking for Senior Project Contract Man...   \n",
       "999  RESPONSIBILITIES:Manage production incidents t...   \n",
       "\n",
       "                                             key_skill  \n",
       "0    technical expert , hmi , vehicles , human mach...  \n",
       "1                                 Andriod studio , API  \n",
       "2    c   , security , java , embedded software , in...  \n",
       "3    fundamentals , c   , security , rtos , uml , l...  \n",
       "4    html5 , sql , spring , database , security , d...  \n",
       "..                                                 ...  \n",
       "995  project manager , engineering manager , techni...  \n",
       "996    rest , it skills , team player , infrastructure  \n",
       "997  system integration , solution integration , te...  \n",
       "998        director , testing , infrastructure , agile  \n",
       "999  conference , unix /  linux , sql , database , ...  \n",
       "\n",
       "[1000 rows x 6 columns]"
      ]
     },
     "execution_count": 18,
     "metadata": {},
     "output_type": "execute_result"
    }
   ],
   "source": [
    "df1"
   ]
  },
  {
   "cell_type": "code",
   "execution_count": 19,
   "id": "a91ba0dd",
   "metadata": {},
   "outputs": [],
   "source": [
    "df1.to_excel('timejob_project.xlsx')#tableau to excelsheet  "
   ]
  },
  {
   "cell_type": "code",
   "execution_count": 202,
   "id": "aa43f03e",
   "metadata": {},
   "outputs": [
    {
     "data": {
      "text/plain": [
       "'C:\\\\Users\\\\lenovo\\\\Desktop\\\\project'"
      ]
     },
     "execution_count": 202,
     "metadata": {},
     "output_type": "execute_result"
    }
   ],
   "source": [
    "pwd"
   ]
  },
  {
   "cell_type": "code",
   "execution_count": null,
   "id": "69b6a59f",
   "metadata": {},
   "outputs": [],
   "source": []
  }
 ],
 "metadata": {
  "kernelspec": {
   "display_name": "Python 3 (ipykernel)",
   "language": "python",
   "name": "python3"
  },
  "language_info": {
   "codemirror_mode": {
    "name": "ipython",
    "version": 3
   },
   "file_extension": ".py",
   "mimetype": "text/x-python",
   "name": "python",
   "nbconvert_exporter": "python",
   "pygments_lexer": "ipython3",
   "version": "3.9.13"
  }
 },
 "nbformat": 4,
 "nbformat_minor": 5
}
